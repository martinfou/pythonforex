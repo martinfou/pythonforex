{
 "cells": [
  {
   "cell_type": "markdown",
   "metadata": {},
   "source": [
    "# How to get a price from Oanda"
   ]
  },
  {
   "cell_type": "code",
   "execution_count": 14,
   "metadata": {},
   "outputs": [
    {
     "name": "stdout",
     "output_type": "stream",
     "text": [
      "1.23222\n"
     ]
    }
   ],
   "source": [
    "import oandapy\n",
    "oanda = oandapy.API(environment=\"practice\", access_token=\"d31b1aa7ef74e642c12e795af23f21b9-b7ee35bb2dfcf1207f88b4a5059f47dc\")\n",
    "response = oanda.get_prices(instruments=\"EUR_USD\")\n",
    "prices = response.get(\"prices\")\n",
    "asking_price = prices[0].get(\"ask\")\n",
    "print(asking_price)"
   ]
  },
  {
   "cell_type": "code",
   "execution_count": null,
   "metadata": {},
   "outputs": [],
   "source": []
  }
 ],
 "metadata": {
  "kernelspec": {
   "display_name": "Python 3",
   "language": "python",
   "name": "python3"
  },
  "language_info": {
   "codemirror_mode": {
    "name": "ipython",
    "version": 3
   },
   "file_extension": ".py",
   "mimetype": "text/x-python",
   "name": "python",
   "nbconvert_exporter": "python",
   "pygments_lexer": "ipython3",
   "version": "3.6.4"
  }
 },
 "nbformat": 4,
 "nbformat_minor": 2
}
